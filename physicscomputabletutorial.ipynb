{
 "cells": [
  {
   "cell_type": "markdown",
   "metadata": {},
   "source": [
    "## University of Manchester\n",
    "## Department of Physics and Astronomy\n",
    "# 1st Year - Tutorial Sheet 1\n",
    "### 2020 - 2021\n",
    "\n",
    "### PHYS10101 Dynamics / PHYS10121 Quantum Physics and Relativity\n",
    "\n",
    "Note: this sheet covers tutorials in **Weeks 1 and 2 of Semester 1**"
   ]
  },
  {
   "cell_type": "markdown",
   "metadata": {},
   "source": [
    "Problem solving can be a difficult skill to master. If you are finding it tough going, it may be helpful to try the following strategy:\n",
    "\n",
    "* 1.Identify what the problem is about. Try to visualise the problem. Drawing a diagram may help. \n",
    "* 2.Identify clearly what you are being asked to find. \n",
    "* 3.What information have you been given? Sometimes even the simple task of writing down this information can help. \n",
    "* 4.What (physics) principles and equations can you use? \n",
    "* 5.How do you put points 1, 2, 3 and 4 together to get a solution? What maths will you need? \n",
    "* 6.It is usually best to try and solve the problem algebraically, using symbols, even if you are given numerical values. This enables you to check at each stage and at the end, that you have correct and consistent dimensions. The last thing to do is to put numbers in, if a numerical answer is required. \n",
    "* 7.Is the answer reasonable? If the answer is numerical, is the order-of-magnitude appropriate? Does your algebraic answer behave in the correct way when the variables take on very large or very small values, or in other limits? \n",
    "\n",
    "*You can get help from the Physics Help Service*\n",
    "\n",
    "peter.mitchell@manchester.ac.uk"
   ]
  },
  {
   "cell_type": "markdown",
   "metadata": {},
   "source": [
    "## PHYS10101 - Dynamics Tutorial 0 \n",
    "\n",
    "Introduction to problem solving and calculation.\n",
    "\n",
    "General structure of a good answer. \n",
    "* 1. Whenever possible, draw a diagram. \n",
    "* 2. Label this with symbols representing all the given information, and anyother quantities required. \n",
    "* 3. Formulate the physical principles governing this problem. \n",
    "* 4. Do the maths, using the symbols you have defined. \n",
    "* 5. Check the dimensions. \n",
    "* 6. Calculate a numerical answer if required."
   ]
  },
  {
   "cell_type": "markdown",
   "metadata": {},
   "source": [
    "### Question 1:\n",
    "\n",
    "Large cockroaches can run as fast as $u_c=1.50$ ms$^{−1}$ in short bursts. As you walk into a room, you see one scurrying directly away from you at constant speed $u_c$. You accelerate at a constant rate, and catch up with it just short of safety, a distance $1_1$ from its initial position. Assume you start at $l_0=0.90$ m behind the cockroach  with an initial speed $u_0=0.80$ ms$^{−1}$ toward it, and take $l_1=1.20$ m.\n",
    "\n",
    "(a) Start by drawing a diagram, and find mathematical expressions for the velocity and position of yourself and the cockroach as a function of time.  \n",
    "(b) Plot acceleration-time, velocity-time and position-time graphs for the two of you."
   ]
  },
  {
   "cell_type": "code",
   "execution_count": 7,
   "metadata": {},
   "outputs": [
    {
     "data": {
      "text/plain": [
       "<matplotlib.collections.PathCollection at 0x11fe916d0>"
      ]
     },
     "execution_count": 7,
     "metadata": {},
     "output_type": "execute_result"
    },
    {
     "data": {
      "image/png": "[encoded data removed]",
      "text/plain": [
       "<Figure size 432x288 with 1 Axes>"
      ]
     },
     "metadata": {
      "needs_background": "light"
     },
     "output_type": "display_data"
    }
   ],
   "source": [
    "# Skeleton code - please complete it!\n",
    "#\n",
    "# Initalise the required Python packages\n",
    "import numpy as np\n",
    "import matplotlib.pyplot as plt\n",
    "import math\n",
    "# Use a0 for student acceleration and ac = 0 for cockroach acceleration.\n",
    "#a0 = # Your acceleration - put your calculated value here\n",
    "ac = 0 # Cockcroach acceleration is zero\n",
    "# Make an array of times so you can plot\n",
    "t = np.arange(0,1,0.01) # Array of times\n",
    "t_length = len(t) # Length of that array, so you can use it to make other arrays\n",
    "# Make an array of zeros for the cockroach acceleration\n",
    "ac_array = ac * np.zeros(t_length)\n",
    "\n",
    "plt.scatter(t,ac_array)"
   ]
  },
  {
   "cell_type": "markdown",
   "metadata": {},
   "source": [
    "## PHYS10121 Quantum Physics and Relativity - Examples 1\n",
    "\n",
    "This first problem sheet is desinged to help you understand the idea of relative velocity."
   ]
  },
  {
   "cell_type": "markdown",
   "metadata": {},
   "source": [
    "### Question 1\n",
    "\n",
    "A  “moving sidewalk” in  an  airport  terminal  building  moves  at  1.0 ms$^{−1}$ and  is 35.0 m long.  If a woman steps on at one end and walks at 1.5 ms$^{−1}$ relative to the moving sidewalk, how much time does she require to reach the opposite end if she walks  \n",
    "(a) in the same direction as the sidewalk is moving?  \n",
    "(b) in the opposite direction?"
   ]
  },
  {
   "cell_type": "code",
   "execution_count": null,
   "metadata": {},
   "outputs": [],
   "source": []
  }
 ],
 "metadata": {
  "kernelspec": {
   "display_name": "Python 3",
   "language": "python",
   "name": "python3"
  },
  "language_info": {
   "codemirror_mode": {
    "name": "ipython",
    "version": 3
   },
   "file_extension": ".py",
   "mimetype": "text/x-python",
   "name": "python",
   "nbconvert_exporter": "python",
   "pygments_lexer": "ipython3",
   "version": "3.7.7"
  }
 },
 "nbformat": 4,
 "nbformat_minor": 4
}
